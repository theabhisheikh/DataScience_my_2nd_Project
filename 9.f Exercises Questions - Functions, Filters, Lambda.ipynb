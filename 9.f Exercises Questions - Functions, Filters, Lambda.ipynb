{
 "cells": [
  {
   "cell_type": "markdown",
   "metadata": {},
   "source": [
    "\n",
    "## <font color='red'> FUNCTIONS, FILTERS AND LAMBDA EXPRESSIONS  </font> "
   ]
  },
  {
   "cell_type": "markdown",
   "metadata": {},
   "source": [
    "# <font color='blue'> 1. WRITE A FUNCTION THAT TAKES A VARIABLE AND SQUARE IT, THEN TEST THE FUNCTION BY TAKING AN INPUT FROM A USER"
   ]
  },
  {
   "cell_type": "code",
   "execution_count": 21,
   "metadata": {},
   "outputs": [
    {
     "name": "stdout",
     "output_type": "stream",
     "text": [
      "Enter a number: 67.9\n",
      "The square of 67.9 is 4610.410000000001\n"
     ]
    }
   ],
   "source": [
    "def square(x):\n",
    "    return x ** 2\n",
    "num = input(\"Enter a number: \")\n",
    "num = float(num)\n",
    "result = square(num)\n",
    "print(\"The square of\", num, \"is\", result) "
   ]
  },
  {
   "cell_type": "code",
   "execution_count": null,
   "metadata": {},
   "outputs": [],
   "source": []
  },
  {
   "cell_type": "code",
   "execution_count": null,
   "metadata": {},
   "outputs": [],
   "source": []
  },
  {
   "cell_type": "code",
   "execution_count": null,
   "metadata": {},
   "outputs": [],
   "source": []
  },
  {
   "cell_type": "code",
   "execution_count": null,
   "metadata": {},
   "outputs": [],
   "source": []
  },
  {
   "cell_type": "markdown",
   "metadata": {},
   "source": [
    "# <font color='blue'> 2. WRITE A FUNCTION THAT TAKES 2 VARIABLE AND OBTAIN THE SUMMATION AND MULTIPLICATION, THEN TEST THE FUNCTION BY TAKING AN INPUT FROM A USER (REPEAT USING LAMBDA EXPRESSIONS)"
   ]
  },
  {
   "cell_type": "markdown",
   "metadata": {},
   "source": [
    "# LAMBDA"
   ]
  },
  {
   "cell_type": "code",
   "execution_count": 32,
   "metadata": {},
   "outputs": [
    {
     "name": "stdout",
     "output_type": "stream",
     "text": [
      "Enter first number: 5\n",
      "Enter second numbers: 6\n",
      "The sum of 5.0 and 6.0 is 11.0\n",
      "The multiplication of 5.0 and 6.0 is 30.0\n"
     ]
    }
   ],
   "source": [
    "def sum_mul(x, y):\n",
    "\n",
    "    return x + y, x * y\n",
    "\n",
    "num1 = input(\"Enter first number: \")\n",
    "num2 = input(\"Enter second numbers: \")\n",
    "\n",
    "num1 = float(num1)\n",
    "num2 = float(num2)\n",
    "\n",
    "sum_result, mul_result = sum_mul(num1, num2)\n",
    "print(\"The sum of\", num1, \"and\", num2, \"is\", sum_result)\n",
    "print(\"The multiplication of\", num1, \"and\", num2, \"is\", mul_result)\n"
   ]
  },
  {
   "cell_type": "code",
   "execution_count": 33,
   "metadata": {},
   "outputs": [
    {
     "name": "stdout",
     "output_type": "stream",
     "text": [
      "Enter first number: 5\n",
      "Enter second numbers: 6\n",
      "The sum of 5.0 and 6.0 using lambda is 11.0\n",
      "The multiplication of 5.0 and 6.0 using lambda is 30.0\n"
     ]
    }
   ],
   "source": [
    "def sum_mul(x, y):\n",
    "\n",
    "    return \n",
    "num1 = input(\"Enter first number: \")\n",
    "num2 = input(\"Enter second numbers: \")\n",
    "num1 = float(num1)\n",
    "num2 = float(num2)\n",
    "\n",
    "sum_mul_lambda = lambda x, y: (x + y, x * y)\n",
    "\n",
    "sum_result_lambda, mul_result_lambda = sum_mul_lambda(num1, num2)\n",
    "print(\"The sum of\", num1, \"and\", num2, \"using lambda is\", sum_result_lambda)\n",
    "print(\"The multiplication of\", num1, \"and\", num2, \"using lambda is\", mul_result_lambda)\n"
   ]
  },
  {
   "cell_type": "markdown",
   "metadata": {},
   "source": [
    "#  <font color='blue'>3. WRITE A FUNCTION THAT TAKES A VARIABLE AND RETURNS ITS FACTORIAL </font> "
   ]
  },
  {
   "cell_type": "code",
   "execution_count": 57,
   "metadata": {},
   "outputs": [
    {
     "name": "stdout",
     "output_type": "stream",
     "text": [
      "Enter a positive integer: 7\n",
      "5040\n"
     ]
    }
   ],
   "source": [
    "def factorial(n):\n",
    "    \n",
    "    if n == 0:\n",
    "        return 1\n",
    "    elif n < 0:\n",
    "        print(\"Invalid value. Please enter a positive integer.\")\n",
    "    else:\n",
    "        result = 1\n",
    "        for i in range(1, n + 1):\n",
    "            result *= i\n",
    "        return result\n",
    "num = input(\"Enter a positive integer: \")\n",
    "num = int(num)\n",
    "result = factorial(num)\n",
    "print(result)\n"
   ]
  },
  {
   "cell_type": "code",
   "execution_count": null,
   "metadata": {},
   "outputs": [],
   "source": []
  },
  {
   "cell_type": "code",
   "execution_count": null,
   "metadata": {},
   "outputs": [],
   "source": []
  },
  {
   "cell_type": "markdown",
   "metadata": {},
   "source": [
    "# <font color='blue'> 4. DEVELOP A SCRIPT WHOSE ITEMS ARE SQUARES OF THE ORIGINAL LIST </font> "
   ]
  },
  {
   "cell_type": "code",
   "execution_count": 43,
   "metadata": {},
   "outputs": [
    {
     "name": "stdout",
     "output_type": "stream",
     "text": [
      "Original List: [1, 2, 3, 4, 5]\n",
      "Squared List: [1, 4, 9, 16, 25]\n"
     ]
    }
   ],
   "source": [
    "original_list = [1, 2, 3, 4, 5]\n",
    "\n",
    "squared_list = [x ** 2 for x in original_list]\n",
    "\n",
    "print(\"Original List:\", original_list)\n",
    "print(\"Squared List:\", squared_list)\n"
   ]
  },
  {
   "cell_type": "code",
   "execution_count": null,
   "metadata": {},
   "outputs": [],
   "source": []
  },
  {
   "cell_type": "markdown",
   "metadata": {},
   "source": [
    "# <font color='blue'> 5. WRITE A FUNCTION THAT SQUARES A VARIABLE AND THEN TEST THE FUNCTION USING A LIST OF INTEGER NUMBERS RANGING FROM -20 to 20"
   ]
  },
  {
   "cell_type": "code",
   "execution_count": 64,
   "metadata": {},
   "outputs": [
    {
     "name": "stdout",
     "output_type": "stream",
     "text": [
      "Enter a number: 3\n",
      "The square of 3 is 9\n"
     ]
    }
   ],
   "source": [
    "def square(x):\n",
    "    return x ** 2\n",
    "num = input(\"Enter a number: \")\n",
    "num = int(num)\n",
    "result = square(num)\n",
    "print(\"The square of\", num, \"is\", result) "
   ]
  },
  {
   "cell_type": "code",
   "execution_count": 61,
   "metadata": {},
   "outputs": [
    {
     "name": "stdout",
     "output_type": "stream",
     "text": [
      "The square of -20 is 400\n",
      "The square of -19 is 361\n",
      "The square of -18 is 324\n",
      "The square of -17 is 289\n",
      "The square of -16 is 256\n",
      "The square of -15 is 225\n",
      "The square of -14 is 196\n",
      "The square of -13 is 169\n",
      "The square of -12 is 144\n",
      "The square of -11 is 121\n",
      "The square of -10 is 100\n",
      "The square of -9 is 81\n",
      "The square of -8 is 64\n",
      "The square of -7 is 49\n",
      "The square of -6 is 36\n",
      "The square of -5 is 25\n",
      "The square of -4 is 16\n",
      "The square of -3 is 9\n",
      "The square of -2 is 4\n",
      "The square of -1 is 1\n",
      "The square of 0 is 0\n",
      "The square of 1 is 1\n",
      "The square of 2 is 4\n",
      "The square of 3 is 9\n",
      "The square of 4 is 16\n",
      "The square of 5 is 25\n",
      "The square of 6 is 36\n",
      "The square of 7 is 49\n",
      "The square of 8 is 64\n",
      "The square of 9 is 81\n",
      "The square of 10 is 100\n",
      "The square of 11 is 121\n",
      "The square of 12 is 144\n",
      "The square of 13 is 169\n",
      "The square of 14 is 196\n",
      "The square of 15 is 225\n",
      "The square of 16 is 256\n",
      "The square of 17 is 289\n",
      "The square of 18 is 324\n",
      "The square of 19 is 361\n",
      "The square of 20 is 400\n"
     ]
    }
   ],
   "source": [
    "#Test the function\n",
    "List = list(range(-20, 21))\n",
    "num=int(num)\n",
    "for num in List:\n",
    "    result = number(num)\n",
    "    print(\"The square of\", num, \"is\", result)"
   ]
  },
  {
   "cell_type": "markdown",
   "metadata": {},
   "source": [
    "# <font color='blue'> 6. WRITE 3 FUNCTIONS THAT TAKE THE RADIUS OF A CIRCLE AND RETURN THE DIAMETER, AREA AND CIRCUMFERENCE, TEST THE FUNCTION USING AN INPUT FROM A USER "
   ]
  },
  {
   "cell_type": "code",
   "execution_count": 67,
   "metadata": {},
   "outputs": [
    {
     "name": "stdout",
     "output_type": "stream",
     "text": [
      "Enter a radius: 8\n",
      "The diameter of a circle with radius 8.0 is 16.0\n",
      "The area of a circle with radius 8.0 is 201.14285714285714\n",
      "The circumference of a circle with radius 8.0 is 50.285714285714285\n"
     ]
    }
   ],
   "source": [
    "pi = 22 / 7\n",
    "def diameter(r):\n",
    "    return 2 * r\n",
    "def area(r):\n",
    "    return pi * r ** 2\n",
    "def circumference(r):\n",
    "    return 2 * pi * r\n",
    "r = input(\"Enter a radius: \")\n",
    "r = float(r)\n",
    "print(\"The diameter of a circle with radius\", r, \"is\", diameter(r))\n",
    "print(\"The area of a circle with radius\", r, \"is\", area(r))\n",
    "print(\"The circumference of a circle with radius\", r, \"is\", circumference(r))"
   ]
  },
  {
   "cell_type": "code",
   "execution_count": null,
   "metadata": {},
   "outputs": [],
   "source": []
  },
  {
   "cell_type": "markdown",
   "metadata": {},
   "source": [
    "# <font color='blue'> 7. WRITE A CODE THAT TAKES A RANGE FROM A USER (UPPER AND LOWER BOUND) AND RETURNS A LIST OF POSITIVE AND EVEN NUMBERS ONLY"
   ]
  },
  {
   "cell_type": "code",
   "execution_count": 4,
   "metadata": {},
   "outputs": [
    {
     "name": "stdout",
     "output_type": "stream",
     "text": [
      "Enter the lower and upper bounds of the range, separated by a space: 50 500\n",
      "[50, 52, 54, 56, 58, 60, 62, 64, 66, 68, 70, 72, 74, 76, 78, 80, 82, 84, 86, 88, 90, 92, 94, 96, 98, 100, 102, 104, 106, 108, 110, 112, 114, 116, 118, 120, 122, 124, 126, 128, 130, 132, 134, 136, 138, 140, 142, 144, 146, 148, 150, 152, 154, 156, 158, 160, 162, 164, 166, 168, 170, 172, 174, 176, 178, 180, 182, 184, 186, 188, 190, 192, 194, 196, 198, 200, 202, 204, 206, 208, 210, 212, 214, 216, 218, 220, 222, 224, 226, 228, 230, 232, 234, 236, 238, 240, 242, 244, 246, 248, 250, 252, 254, 256, 258, 260, 262, 264, 266, 268, 270, 272, 274, 276, 278, 280, 282, 284, 286, 288, 290, 292, 294, 296, 298, 300, 302, 304, 306, 308, 310, 312, 314, 316, 318, 320, 322, 324, 326, 328, 330, 332, 334, 336, 338, 340, 342, 344, 346, 348, 350, 352, 354, 356, 358, 360, 362, 364, 366, 368, 370, 372, 374, 376, 378, 380, 382, 384, 386, 388, 390, 392, 394, 396, 398, 400, 402, 404, 406, 408, 410, 412, 414, 416, 418, 420, 422, 424, 426, 428, 430, 432, 434, 436, 438, 440, 442, 444, 446, 448, 450, 452, 454, 456, 458, 460, 462, 464, 466, 468, 470, 472, 474, 476, 478, 480, 482, 484, 486, 488, 490, 492, 494, 496, 498, 500]\n"
     ]
    }
   ],
   "source": [
    "lower, upper = input(\"Enter the lower and upper bounds of the range, separated by a space: \").split()\n",
    "\n",
    "upper = int(upper)\n",
    "lower = int(lower)\n",
    "my_range = range(lower, upper + 1, 1)\n",
    "\n",
    "my_list = [number for number in my_range if number > 0 and number % 2 == 0]\n",
    "\n",
    "print(my_list)\n"
   ]
  },
  {
   "cell_type": "markdown",
   "metadata": {},
   "source": []
  },
  {
   "cell_type": "markdown",
   "metadata": {},
   "source": [
    "# <font color='blue'> 8. USING FILTER AND LAMBDA EXPRESSION, WRITE A CODE THAT TAKES A LIST OF NUMBERS BELOW AND RETURNS EVEN NUMBERS ONLY"
   ]
  },
  {
   "cell_type": "code",
   "execution_count": 7,
   "metadata": {},
   "outputs": [
    {
     "name": "stdout",
     "output_type": "stream",
     "text": [
      "[2, 4, 6, 8, 10]\n"
     ]
    }
   ],
   "source": [
    "lambda x: x % 2 == 0\n",
    "my_list = [1, 2, 3, 4, 5, 6, 7, 8, 9, 10]\n",
    "even_list = filter(lambda x: x % 2 == 0, my_list) \n",
    "even_list = list(even_list) \n",
    "print(even_list) \n"
   ]
  },
  {
   "cell_type": "code",
   "execution_count": null,
   "metadata": {},
   "outputs": [],
   "source": []
  },
  {
   "cell_type": "markdown",
   "metadata": {},
   "source": [
    "# <font color='blue'> 9. WRITE A FUNCTION THAT TAKES TWO NUMPY MATRICES AND RETURN THE ADDITION, SUBTRACTION, TRANSPOSE, PRODUCT, DOT PRODUCT"
   ]
  },
  {
   "cell_type": "code",
   "execution_count": 10,
   "metadata": {},
   "outputs": [
    {
     "name": "stdout",
     "output_type": "stream",
     "text": [
      "[[1 2]\n",
      " [3 4]]\n",
      "Addition:\n",
      " [[ 6  8]\n",
      " [10 12]]\n",
      "Subtraction:\n",
      " [[-4 -4]\n",
      " [-4 -4]]\n",
      "Transpose of matrix1:\n",
      " [[1 3]\n",
      " [2 4]]\n",
      "Transpose of matrix2:\n",
      " [[5 7]\n",
      " [6 8]]\n",
      "Product:\n",
      " [[ 5 12]\n",
      " [21 32]]\n",
      "Dot product:\n",
      " [[19 22]\n",
      " [43 50]]\n"
     ]
    }
   ],
   "source": [
    "import numpy as np \n",
    "matrix1 = np.array([[1, 2], [3, 4]])\n",
    "print(matrix1)\n",
    "\n",
    "def matrix_operations(matrix1, matrix2):\n",
    "    if np.shape(matrix1) == np.shape(matrix2):\n",
    "        addition = matrix1 + matrix2\n",
    "        subtraction = matrix1 - matrix2\n",
    "        transpose1 = matrix1.T\n",
    "        transpose2 = matrix2.T\n",
    "        product = matrix1 * matrix2\n",
    "        dot_product = matrix1 @ matrix2\n",
    "\n",
    "    else:\n",
    "        print(\"The matrices do not have the same shape.\")\n",
    "    return addition, subtraction, transpose1, transpose2, product, dot_product\n",
    "\n",
    "matrix1 = np.array([[1, 2], [3, 4]])\n",
    "matrix2 = np.array([[5, 6], [7, 8]])\n",
    "\n",
    "addition, subtraction, transpose1, transpose2, product, dot_product = matrix_operations(matrix1, matrix2)\n",
    "print(\"Addition:\\n\", addition)\n",
    "print(\"Subtraction:\\n\", subtraction)\n",
    "print(\"Transpose of matrix1:\\n\", transpose1)\n",
    "print(\"Transpose of matrix2:\\n\", transpose2)\n",
    "print(\"Product:\\n\", product)\n",
    "print(\"Dot product:\\n\", dot_product)\n"
   ]
  },
  {
   "cell_type": "code",
   "execution_count": null,
   "metadata": {},
   "outputs": [],
   "source": []
  },
  {
   "cell_type": "markdown",
   "metadata": {},
   "source": [
    "# <font color='blue'> 10. WRITE A FUNCTION THAT TAKES TWO VALUES FROM A USER AND SUM THEM UP. IF NO VALUES ARE PROVIDED, ASSUME DEFAULT VALUES OF 3 AND 5"
   ]
  },
  {
   "cell_type": "code",
   "execution_count": 14,
   "metadata": {},
   "outputs": [
    {
     "name": "stdout",
     "output_type": "stream",
     "text": [
      "Enter two numbers separated by a space: 3 4\n",
      "The sum of 3.0 and 4.0 is 7.0\n"
     ]
    }
   ],
   "source": [
    "def add(x=3, y=5):\n",
    "    return x + y\n",
    "\n",
    "try:\n",
    "    user_input = input(\"Enter two numbers separated by a space: \")\n",
    "    user_input = user_input.split()\n",
    "    x, y = map(float, user_input)\n",
    "    result = add(x, y)\n",
    "    print(\"The sum of\", x, \"and\", y, \"is\", result)\n",
    "except:\n",
    "    print(\"Invalid input. Using default values instead.\")\n",
    "    result = add()\n",
    "    print(\"The sum of 3 and 5 is\", result)\n"
   ]
  },
  {
   "cell_type": "code",
   "execution_count": null,
   "metadata": {},
   "outputs": [],
   "source": []
  },
  {
   "cell_type": "markdown",
   "metadata": {},
   "source": [
    "# <font color='blue'> 11. WRITE A SCRIPT THAT WILL PROMPT A USER FOR A RANGE (MIN/MAX VALUE) AND RETURNS NUMBERS THAT ARE DIVISIBLE BY 4 BUT ARE NOT MULTIPLES OF 3 "
   ]
  },
  {
   "cell_type": "code",
   "execution_count": 23,
   "metadata": {},
   "outputs": [
    {
     "name": "stdout",
     "output_type": "stream",
     "text": [
      "Enter the minimum and maximum values of the range, separated by a space: 3 50\n",
      "[4, 8, 16, 20, 28, 32, 40, 44]\n"
     ]
    }
   ],
   "source": [
    "min_value, max_value = input(\"Enter the minimum and maximum values of the range, separated by a space: \").split()\n",
    "\n",
    "min_value = int(min_value)\n",
    "max_value = int(max_value)\n",
    "\n",
    "my_range = range(min_value, max_value + 1, 1)\n",
    "\n",
    "my_list = [number for number in my_range if number % 4 == 0 and number % 3 != 0]\n",
    "\n",
    "print(my_list)\n"
   ]
  },
  {
   "cell_type": "code",
   "execution_count": null,
   "metadata": {},
   "outputs": [],
   "source": []
  },
  {
   "cell_type": "markdown",
   "metadata": {},
   "source": [
    "# <font color='blue'> 12. DEFINE AN ENGLISH TO FRENCH TRANSLATOR FUNCTION THAT TAKES AN INPUT FROM A USER AND RETURNS THE TRANSLATION, USE ANY 5 KNOWN WORDS"
   ]
  },
  {
   "cell_type": "code",
   "execution_count": 28,
   "metadata": {},
   "outputs": [
    {
     "name": "stdout",
     "output_type": "stream",
     "text": [
      "Enter an English word: dog\n",
      "The translation of 'dog' in French is 'chien'.\n"
     ]
    }
   ],
   "source": [
    "def english_to_french_translator(word):\n",
    "    translation_dict = {\n",
    "        \"hello\": \"bonjour\",\n",
    "        \"cat\": \"chat\",\n",
    "        \"dog\": \"chien\",\n",
    "        \"house\": \"maison\",\n",
    "        \"car\": \"voiture\"\n",
    "    }\n",
    "    word = word.lower()\n",
    "    if word in translation_dict:\n",
    "        return translation_dict[word]\n",
    "    else:\n",
    "        return \"Translation not found\"\n",
    "user_input = input(\"Enter an English word: \")\n",
    "translation = english_to_french_translator(user_input)\n",
    "print(f\"The translation of '{user_input}' in French is '{translation}'.\")\n"
   ]
  },
  {
   "cell_type": "code",
   "execution_count": null,
   "metadata": {},
   "outputs": [],
   "source": []
  },
  {
   "cell_type": "code",
   "execution_count": null,
   "metadata": {},
   "outputs": [],
   "source": []
  }
 ],
 "metadata": {
  "kernelspec": {
   "display_name": "Python 3",
   "language": "python",
   "name": "python3"
  },
  "language_info": {
   "codemirror_mode": {
    "name": "ipython",
    "version": 3
   },
   "file_extension": ".py",
   "mimetype": "text/x-python",
   "name": "python",
   "nbconvert_exporter": "python",
   "pygments_lexer": "ipython3",
   "version": "3.7.6"
  }
 },
 "nbformat": 4,
 "nbformat_minor": 2
}
